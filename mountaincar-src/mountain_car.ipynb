{
  "cells": [
    {
      "cell_type": "code",
      "execution_count": null,
      "metadata": {
        "id": "a-ic_huuZ28F"
      },
      "outputs": [],
      "source": [
        "%pip install gymnasium[classic-control]\n",
        "%pip install tensorflow\n",
        "%pip install tdqm\n",
        "\n",
        "\n",
        "import numpy as np\n",
        "import tensorflow as tf\n",
        "import gymnasium as gym\n",
        "import os\n",
        "import datetime\n",
        "import random\n",
        "from tqdm import tqdm\n",
        "from gymnasium import wrappers\n",
        "from keras.optimizers import Adam\n",
        "from keras.models import Sequential\n",
        "from keras.models import load_model\n",
        "from keras.layers import Dense\n",
        "from tensorflow.keras.layers import Dropout\n",
        "from collections import deque"
      ]
    },
    {
      "cell_type": "markdown",
      "metadata": {
        "id": "awctTJLMfhLW"
      },
      "source": [
        "Use GPU\n"
      ]
    },
    {
      "cell_type": "code",
      "execution_count": null,
      "metadata": {
        "colab": {
          "base_uri": "https://localhost:8080/"
        },
        "id": "747K_7fOfguO",
        "outputId": "8bd75a0f-d479-4d18-d60a-d1d79a93d38c"
      },
      "outputs": [
        {
          "output_type": "stream",
          "name": "stdout",
          "text": [
            "Num GPUs Available:  0\n"
          ]
        }
      ],
      "source": [
        "print(\"Num GPUs Available: \", len(tf.config.list_physical_devices('GPU')))\n",
        "gpus = tf.config.experimental.list_physical_devices('GPU')\n",
        "if gpus:\n",
        "    tf.config.experimental.set_memory_growth(gpus[0], True)"
      ]
    },
    {
      "cell_type": "markdown",
      "metadata": {
        "id": "svkrLLoKZ28H"
      },
      "source": [
        "Game Visualization"
      ]
    },
    {
      "cell_type": "code",
      "execution_count": null,
      "metadata": {
        "colab": {
          "base_uri": "https://localhost:8080/"
        },
        "id": "EzlYKkM9Z28I",
        "outputId": "d0d3c451-9639-4749-f088-80cf089ffddd"
      },
      "outputs": [
        {
          "output_type": "stream",
          "name": "stdout",
          "text": [
            "(2,)\n",
            "2\n"
          ]
        }
      ],
      "source": [
        "env = gym.make('MountainCar-v0',render_mode=\"human\")\n",
        "print(env.observation_space.shape)\n",
        "print(len(env.observation_space.sample()))"
      ]
    },
    {
      "cell_type": "markdown",
      "metadata": {
        "id": "r6rh1hHVZ28J"
      },
      "source": [
        "Notice that in mountain car you should use truncated flag to terminate the episode, since at initial steps the flag might not be reached"
      ]
    },
    {
      "cell_type": "code",
      "execution_count": null,
      "metadata": {
        "id": "mp1RNqIOZ28J"
      },
      "outputs": [],
      "source": [
        "env = gym.make('MountainCar-v0')\n",
        "observation, info = env.reset()\n",
        "\n",
        "episodes = 2\n",
        "\n",
        "for episode in range(1, episodes + 1):\n",
        "    state = env.reset()\n",
        "    done = False\n",
        "    score = 0\n",
        "\n",
        "    while not done:\n",
        "        action = env.action_space.sample()  # pick random action as policy\n",
        "        obs, reward, done, truncated, info = env.step(action)\n",
        "        print(obs)\n",
        "        if obs[0] >= 0.1:\n",
        "            print(obs)\n",
        "        if truncated:\n",
        "            break\n",
        "        score += reward\n",
        "\n",
        "    print(f\"Episode {episode}, Score: {score}\")\n",
        "\n",
        "\n",
        "env.close()"
      ]
    },
    {
      "cell_type": "markdown",
      "metadata": {
        "id": "IsrWFiRnZ28J"
      },
      "source": [
        "We use two network of the same type, one for traininig and one which is periodically updated with new weights.Since the real target will change each time the model updates itself the solution is to create a target network that is essentially a copy of the training model at certain time steps so the target model updates less frequently\n",
        "In train function we update the target value of the train model with r if it's a terminal state, otherwise we use the Bellamn equation, this makes sense because in a terminal state, there are no more future states or actions to consider, so the only contribution to the agent's total expected reward is the immediate reward associated with reaching that terminal state.\n",
        "\n",
        "Here the metric is \"accuracy\" and the loss is \"MeanSquaredError\"\n",
        "Metric functions are similar to loss functions, except that the results from evaluating a metric are not used when training the model. Note that you may use any loss function as a metric.\n",
        "\n"
      ]
    },
    {
      "cell_type": "code",
      "execution_count": 24,
      "metadata": {
        "id": "koZqhgpwZ28K"
      },
      "outputs": [],
      "source": [
        "class RLAgent:\n",
        "    def __init__(self,num_states,actions,gamma,lr) -> None:\n",
        "        self.num_states = num_states\n",
        "        self.actions = actions\n",
        "        self.gamma = gamma\n",
        "        self.lr = lr\n",
        "        self.target_net = self.build_model()\n",
        "        self.train_net = self.build_model()\n",
        "\n",
        "\n",
        "    def save_model(self,eps):\n",
        "        self.train_net.save('./trainNetwork{}.h5'.format(eps))\n",
        "\n",
        "    def load(self,eps):\n",
        "        self.train_net = load_model('./trainNetwork{}.h5'.format(eps))\n",
        "\n",
        "    def build_model(self):\n",
        "        \"\"\"\n",
        "        Builds a deep neural net which predicts the Q values for all possible\n",
        "        actions given a state. The input should have the shape of the state\n",
        "        (which is 2 in MountainCar), and the output should have the same shape as\n",
        "        the action space (which is 2 in MountainCar) since we want 1 Q value per\n",
        "        possible action.\n",
        "\n",
        "        :return: the Q network\n",
        "        \"\"\"\n",
        "\n",
        "        # apply learning rate EsponentialDecay\n",
        "        lr_schedule = tf.keras.optimizers.schedules.ExponentialDecay(\n",
        "            self.lr,\n",
        "            decay_steps=50000,\n",
        "            decay_rate=0.96,\n",
        "            staircase=True\n",
        "        )\n",
        "\n",
        "        opt = tf.optimizers.Adam(learning_rate=self.lr)\n",
        "\n",
        "\n",
        "        model = Sequential()\n",
        "        model.add(Dense(24, input_shape=(self.num_states,), activation='relu', kernel_initializer='he_uniform'))\n",
        "        #model.add(Dropout(0.5))  # Add dropout after the first dense layer\n",
        "        #model.add(Dense(32, activation='relu', kernel_initializer='he_uniform'))\n",
        "        #model.add(Dropout(0.08))  # Add dropout after the second dense layer\n",
        "        model.add(Dense(48, activation='relu', kernel_initializer='he_uniform'))\n",
        "        #model.add(Dropout(0.5))  # Add dropout after the third dense layer\n",
        "        model.add(Dense(self.actions, activation='linear', kernel_initializer='he_uniform'))\n",
        "        model.compile(optimizer=opt, loss='mse', metrics=[\"mse\"])\n",
        "        return model\n",
        "\n",
        "    def policy(self,state):\n",
        "        action_q = self.train_net(np.atleast_2d(state))\n",
        "        return np.argmax(action_q[0], axis=0)\n",
        "\n",
        "\n",
        "    def get_action(self,state,epsilon):\n",
        "        \"\"\"\n",
        "        Get an action with an epsilon greedy policy\n",
        "        \"\"\"\n",
        "        greedy = random.random() > epsilon\n",
        "\n",
        "        # exploitation\n",
        "        if greedy:\n",
        "\n",
        "            # use the train net to get the action value given a state\n",
        "            return self.policy(state)\n",
        "\n",
        "        # exploration\n",
        "        else:\n",
        "             return np.random.choice(self.actions)\n",
        "\n",
        "    def train(self, batch):\n",
        "        \"\"\"\n",
        "        Train the network with a batch sample using a train net and a target net\n",
        "        \"\"\"\n",
        "\n",
        "        state, next_state, action, reward, terminated = batch\n",
        "\n",
        "        # get the current q value for that state, it will be a value for both actions\n",
        "        current_q = self.train_net(state)\n",
        "\n",
        "        # copy that value of the current q-value into a target variable\n",
        "        target_q = np.copy(current_q)\n",
        "\n",
        "        # using the target network get the q-value of the next state\n",
        "        #next_q = self.target_net(next_state)\n",
        "        next_q = self.train_net(next_state)\n",
        "\n",
        "        # among the q-values returned by the target network select the best\n",
        "        max_next_q = np.amax(next_q, axis=1)\n",
        "\n",
        "        for i in range(state.shape[0]):\n",
        "\n",
        "            target_q[i][action[i]] = reward[i] + self.gamma * (1 - terminated[i]) * max_next_q[i]\n",
        "\n",
        "\n",
        "        # fit the train model\n",
        "        result = self.train_net.fit(x=state, y=target_q, epochs=1,verbose=0)\n",
        "\n",
        "        # return the loss\n",
        "        return result.history['loss'][0]\n",
        "\n",
        "\n",
        "    def update_target_network(self):\n",
        "        \"\"\"\n",
        "        Update target network with weights of train network\n",
        "        \"\"\"\n",
        "        self.target_net.set_weights(self.train_net.get_weights())"
      ]
    },
    {
      "cell_type": "markdown",
      "metadata": {
        "id": "9NlPD8_TZ28M"
      },
      "source": [
        "Why Replay buffer?\n",
        "More Efficient Use of Samples: RL agents often experience a high sample complexity, requiring a large number of interactions with the environment to learn effectively. The replay buffer enables more efficient use of these samples by reusing them multiple times during training. It allows the agent to extract more information from each sample and learn from diverse experiences without needing to interact with the environment at every training step.\n",
        "\n",
        "Stability and Convergence: Using a replay buffer can improve the stability and convergence of RL algorithms. By breaking the correlation between consecutive samples and providing a more diverse training dataset, it reduces the variance of updates and prevents the agent from getting stuck in suboptimal states. This stability promotes better convergence and more robust learning."
      ]
    },
    {
      "cell_type": "code",
      "execution_count": null,
      "metadata": {
        "id": "B0w3Om-bZ28M"
      },
      "outputs": [],
      "source": [
        "class ReplayBuffer:\n",
        "  def __init__(self,exp_max_size,batch_size):\n",
        "    self.exp_max_size = exp_max_size\n",
        "    self.batch_size = batch_size\n",
        "    self.experiences = deque(maxlen=exp_max_size)\n",
        "\n",
        "  def get_exp_size(self):\n",
        "    \"\"\"\n",
        "    Get experiences length\n",
        "    \"\"\"\n",
        "    return len(self.experiences)\n",
        "\n",
        "  def add_experience(self,exp):\n",
        "    \"\"\"\n",
        "    Add new experience to buffer\n",
        "    \"\"\"\n",
        "    # oldest item are automatically removed when dimensione is over max_exp_size\n",
        "    self.experiences.append(exp)\n",
        "\n",
        "\n",
        "  def sample_game_batch(self):\n",
        "    \"\"\"\n",
        "    Sample game batch for training loop\n",
        "    \"\"\"\n",
        "    # take a sample of batch size\n",
        "    sampled_gameplay_batch = random.sample(self.experiences, self.batch_size)\n",
        "\n",
        "    # define state, next_state, action ,reward, done\n",
        "    state_batch, next_state_batch, action_batch, reward_batch, done_batch= [], [], [], [], [],\n",
        "\n",
        "    # for each experience in the batch get a sample\n",
        "    for gameplay_experience in sampled_gameplay_batch:\n",
        "      state_batch.append(gameplay_experience[0])\n",
        "      next_state_batch.append(gameplay_experience[1])\n",
        "      reward_batch.append(gameplay_experience[2])\n",
        "      action_batch.append(gameplay_experience[3])\n",
        "      done_batch.append(gameplay_experience[4])\n",
        "\n",
        "\n",
        "    # TODO check if it works and why numpy array only for first two\n",
        "    return np.array(state_batch), np.array(next_state_batch), np.array(action_batch), np.array(reward_batch), np.array(done_batch)"
      ]
    },
    {
      "cell_type": "markdown",
      "metadata": {
        "id": "SoyUp7dZZ28N"
      },
      "source": [
        "Helper function used to evaluate training process, it returns the average rewards of 10 episode. Notice that the action is taken according to the currently learned policy and not with epsilon greedy policy"
      ]
    },
    {
      "cell_type": "code",
      "execution_count": 21,
      "metadata": {
        "id": "pPA7s42a4uFs"
      },
      "outputs": [],
      "source": [
        "import matplotlib.pyplot as plt\n",
        "\n",
        "def plot_avg_rew(episode_cnt,avg_rewards):\n",
        "\n",
        "    plt.plot(range(episode_cnt), avg_rewards)\n",
        "    plt.xlabel('Episode')\n",
        "    plt.ylabel('Average Reward')\n",
        "    plt.title('Average Reward per Episode')\n",
        "    plt.ylim(-200, None)\n",
        "    plt.show()\n",
        "\n",
        "def plot_policy(actions):\n",
        "    temp_action_x = list(actions.keys())\n",
        "\n",
        "    action_labels = {0: \"left\", 1: \"stay\", 2: \"right\"}\n",
        "    action_x = [action_labels[a] for a in temp_action_x]\n",
        "    action_y = list(actions.values())\n",
        "\n",
        "    colors = ['blue', 'green', 'orange']\n",
        "\n",
        "    fig, ax = plt.subplots()\n",
        "    ax.bar(action_x, action_y, color=colors)\n",
        "    ax.set_ylabel('Ocurrences')\n",
        "    ax.set_title('Actions')\n",
        "    ax.legend(title='Actions policy')\n",
        "\n",
        "    plt.show()"
      ]
    },
    {
      "cell_type": "code",
      "execution_count": 23,
      "metadata": {
        "id": "QbY4E1M7Z28N",
        "colab": {
          "base_uri": "https://localhost:8080/",
          "height": 618
        },
        "outputId": "84cd4e93-7d7e-41d2-f735-829355ab204d"
      },
      "outputs": [
        {
          "output_type": "stream",
          "name": "stderr",
          "text": [
            " 16%|█▌        | 16/100 [00:00<00:01, 75.83it/s]"
          ]
        },
        {
          "output_type": "stream",
          "name": "stdout",
          "text": [
            "0/100\n"
          ]
        },
        {
          "output_type": "stream",
          "name": "stderr",
          "text": [
            "\r 24%|██▍       | 24/100 [00:00<00:01, 66.85it/s]"
          ]
        },
        {
          "output_type": "stream",
          "name": "stdout",
          "text": [
            "20/100\n"
          ]
        },
        {
          "output_type": "stream",
          "name": "stderr",
          "text": [
            " 46%|████▌     | 46/100 [00:00<00:00, 64.03it/s]"
          ]
        },
        {
          "output_type": "stream",
          "name": "stdout",
          "text": [
            "40/100\n"
          ]
        },
        {
          "output_type": "stream",
          "name": "stderr",
          "text": [
            " 72%|███████▏  | 72/100 [00:01<00:00, 53.65it/s]"
          ]
        },
        {
          "output_type": "stream",
          "name": "stdout",
          "text": [
            "60/100\n"
          ]
        },
        {
          "output_type": "stream",
          "name": "stderr",
          "text": [
            " 90%|█████████ | 90/100 [00:01<00:00, 50.79it/s]"
          ]
        },
        {
          "output_type": "stream",
          "name": "stdout",
          "text": [
            "80/100\n"
          ]
        },
        {
          "output_type": "stream",
          "name": "stderr",
          "text": [
            "100%|██████████| 100/100 [00:01<00:00, 56.99it/s]\n",
            "WARNING:matplotlib.legend:No artists with labels found to put in legend.  Note that artists whose label start with an underscore are ignored when legend() is called with no argument.\n"
          ]
        },
        {
          "output_type": "stream",
          "name": "stdout",
          "text": [
            "Average reward: -200.0, Accuracy 0.0000\n"
          ]
        },
        {
          "output_type": "display_data",
          "data": {
            "text/plain": [
              "<Figure size 640x480 with 1 Axes>"
            ],
            "image/png": "[encoded data removed]"
          },
          "metadata": {}
        }
      ],
      "source": [
        "def training_result():\n",
        "\n",
        "  env = gym.make('MountainCar-v0')\n",
        "\n",
        "  total_reward = 0.0\n",
        "  win = 0\n",
        "  episodes = 100\n",
        "  actions = {0:0,\n",
        "             1:0,\n",
        "             2:0}\n",
        "\n",
        "  agent = RLAgent(num_states=len(env.observation_space.sample()),actions=env.action_space.n,gamma=0.99,lr=0.001251)\n",
        "  agent.load(\"2500\")\n",
        "\n",
        "\n",
        "  for i in tqdm(range(episodes)): # Play 10 episode and take the average\n",
        "    state, _ = env.reset()\n",
        "    done = False\n",
        "    truncated = False\n",
        "    episode_reward = 0.0\n",
        "    while not (done or truncated):\n",
        "      #action = agent.policy(state)\n",
        "      action = np.random.choice(env.action_space.n)\n",
        "      next_state, reward, done,truncated, info = env.step(action)\n",
        "\n",
        "      # increment action\n",
        "      actions[action] += 1\n",
        "\n",
        "\n",
        "      # Count number of win\n",
        "      if next_state[0] >= 0.5:\n",
        "        win += 1\n",
        "\n",
        "      episode_reward += reward\n",
        "      state = next_state\n",
        "\n",
        "    if i % 20 == 0:\n",
        "        print(f\"{i}/{episodes}\")\n",
        "\n",
        "    total_reward += episode_reward\n",
        "\n",
        "  average_reward = total_reward / episodes\n",
        "  accuracy = win / episodes\n",
        "\n",
        "  print(f\"Average reward: {average_reward}, Accuracy {accuracy:.4f}\")\n",
        "  plot_policy(actions)\n",
        "\n",
        "\n",
        "training_result()\n"
      ]
    },
    {
      "cell_type": "markdown",
      "metadata": {
        "id": "uOwy7iuRZ28O"
      },
      "source": [
        "Training loop"
      ]
    },
    {
      "cell_type": "code",
      "execution_count": null,
      "metadata": {
        "id": "jNqBB7BSZ28O"
      },
      "outputs": [],
      "source": [
        "import time\n",
        "\n",
        "EPISODE = 3000             # number of episode to play\n",
        "EPISODE_MAX_LENGTH = 200\n",
        "UPGRADE_STEP = 20            # frequency of target network upgrade\n",
        "SAVE_MODEL_STEP = 500        # frequency of saving model\n",
        "GAMMA = 0.99                # discount factor\n",
        "EXP_MAX_SIZE = 20_000         # Max batch size of past experience\n",
        "EXP_MIN_SIZE = 1500           # Min batch size of past experience\n",
        "LR = 0.001251               # NN learning rate\n",
        "EPS_MAX = 1.0               # Initial exploration probability\n",
        "EPS_MIN = 0.00001           # Final exploration probability\n",
        "#DECAY = 1-EPS_MAX/EPISODE  # Defines scaling factor of epsilon\n",
        "DECAY = 0.85\n",
        "BATCH_SIZE = 32            # Sample to get from experiences\n",
        "\n",
        "# Start with high exploration probability\n",
        "epsilon = EPS_MAX\n",
        "\n",
        "reward_sum = 0\n",
        "win = 0\n",
        "scores = list()\n",
        "\n",
        "env = gym.make('MountainCar-v0')\n",
        "agent = RLAgent(num_states=len(env.observation_space.sample()),actions=env.action_space.n,gamma=GAMMA,lr=LR)\n",
        "buffer = ReplayBuffer(exp_max_size=EXP_MAX_SIZE,batch_size=BATCH_SIZE)\n",
        "time_scores = deque(maxlen=100)\n",
        "\n",
        "#agent.load(\"200\")\n",
        "\n",
        "start = time.time()\n",
        "for episode_cnt in range(EPISODE):\n",
        "  state, _ = env.reset()\n",
        "  terminated = False\n",
        "\n",
        "  # play the game and collect experience\n",
        "  for step in range(EPISODE_MAX_LENGTH):\n",
        "    action = agent.get_action(state,epsilon)\n",
        "    next_state, reward, terminated, truncated, _ = env.step(action)\n",
        "\n",
        "    # add experience tu the buffer\n",
        "    buffer.add_experience((state, next_state, reward, action, terminated))\n",
        "\n",
        "    # agent won't start learning if there isn't enough experience\n",
        "    if buffer.get_exp_size() > BATCH_SIZE and step % 15 == 0:\n",
        "        gameplay_experience_batch = buffer.sample_game_batch()\n",
        "        loss = agent.train(gameplay_experience_batch)\n",
        "\n",
        "    # set state to next state\n",
        "    state = next_state\n",
        "\n",
        "\n",
        "    if terminated or truncated:\n",
        "\n",
        "        # store current time for that episode\n",
        "        time_scores.append(step)\n",
        "\n",
        "        # compute avg score\n",
        "        scores_avg = np.mean(time_scores) * -1\n",
        "\n",
        "        #if episode_cnt % 250 == 0:\n",
        "            # store avg score\n",
        "        scores.append(scores_avg)\n",
        "\n",
        "        # if goal increase number of win\n",
        "        if next_state[0] >= 0.5:\n",
        "            win += 1\n",
        "\n",
        "        print(f\"Episode {episode_cnt}/{EPISODE}, e {epsilon:.6f}, exp size {buffer.get_exp_size()}, avg reward {scores_avg:.2f}, state {state}, time {step}, win {win}\")\n",
        "        break\n",
        "\n",
        "#   if buffer.get_exp_size() > BATCH_SIZE:\n",
        "#         gameplay_experience_batch = buffer.sample_game_batch()\n",
        "#         loss = agent.train(gameplay_experience_batch)\n",
        "\n",
        "\n",
        "  # update target network after one episode playing\n",
        "  #if episode_cnt % UPGRADE_STEP == 0 and episode_cnt > 0:\n",
        "  #agent.update_target_network()\n",
        "\n",
        "  # decay epsilon to increase exploitation probability\n",
        "  epsilon = max(EPS_MIN, epsilon * DECAY)\n",
        "\n",
        "  if episode_cnt % SAVE_MODEL_STEP == 0 and episode_cnt > 0:\n",
        "    agent.save_model(episode_cnt)\n",
        "\n",
        "  # display results\n",
        "  if episode_cnt % 2999 == 0 and episode_cnt > 0:\n",
        "    plot_avg_rew(episode_cnt+1,scores)\n",
        "\n",
        "\n",
        "end = time.time()\n",
        "\n",
        "print(f\"Learning duration: {end-start:.3f}\")\n",
        "\n",
        "# plot reward score\n",
        "plot_avg_rew(EPISODE,scores)\n",
        "training_result(env,agent)"
      ]
    },
    {
      "cell_type": "markdown",
      "metadata": {
        "id": "hQEnq-8YeSSY"
      },
      "source": [
        "Execution only with train net, then check execution with target net and report:\n",
        "\n",
        "\n",
        "\n",
        "*   Average reward: -137.273 after 3000 Accuracy 0.74 with % 10 no target_net no dropout\n",
        "*   Average reward: -125.276 after 3000 episodes with % 15, Accuracy 0.9910 no target_net no dropout\n",
        "\n"
      ]
    }
  ],
  "metadata": {
    "colab": {
      "provenance": []
    },
    "kernelspec": {
      "display_name": "Python 3",
      "name": "python3"
    },
    "language_info": {
      "codemirror_mode": {
        "name": "ipython",
        "version": 3
      },
      "file_extension": ".py",
      "mimetype": "text/x-python",
      "name": "python",
      "nbconvert_exporter": "python",
      "pygments_lexer": "ipython3",
      "version": "3.11.2"
    }
  },
  "nbformat": 4,
  "nbformat_minor": 0
}